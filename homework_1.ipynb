{
  "nbformat": 4,
  "nbformat_minor": 0,
  "metadata": {
    "colab": {
      "provenance": [],
      "collapsed_sections": [
        "Eyk69kri9hVW"
      ],
      "toc_visible": true
    },
    "kernelspec": {
      "name": "python3",
      "display_name": "Python 3"
    },
    "language_info": {
      "name": "python"
    }
  },
  "cells": [
    {
      "cell_type": "code",
      "source": [
        "s = \"this is my first python programming class and i am learNING PYTHON STRING AND ITS FUNCTION\""
      ],
      "metadata": {
        "id": "OjwxEWzK4ox_"
      },
      "execution_count": 20,
      "outputs": []
    },
    {
      "cell_type": "markdown",
      "source": [
        "1. try to extract data from index 300 to with a jump of 3"
      ],
      "metadata": {
        "id": "KeMa-AeQ6rBj"
      }
    },
    {
      "cell_type": "code",
      "source": [
        "s[1:301:3]"
      ],
      "metadata": {
        "colab": {
          "base_uri": "https://localhost:8080/",
          "height": 35
        },
        "id": "l57pShen6KeS",
        "outputId": "be802d89-dc6d-4269-a783-fa2debf127b4"
      },
      "execution_count": 21,
      "outputs": [
        {
          "output_type": "execute_result",
          "data": {
            "text/plain": [
              "'h   r tnrrmglsnimeNGYOSI DTFCO'"
            ],
            "application/vnd.google.colaboratory.intrinsic+json": {
              "type": "string"
            }
          },
          "metadata": {},
          "execution_count": 21
        }
      ]
    },
    {
      "cell_type": "markdown",
      "source": [
        "2. try to reserve string without using reverse function"
      ],
      "metadata": {
        "id": "E_V5RGFU7Be3"
      }
    },
    {
      "cell_type": "code",
      "source": [
        "s[::-1]"
      ],
      "metadata": {
        "colab": {
          "base_uri": "https://localhost:8080/",
          "height": 35
        },
        "id": "M9L6K7VY7XDJ",
        "outputId": "26cea677-1075-4798-8f1b-c04a091a5450"
      },
      "execution_count": 22,
      "outputs": [
        {
          "output_type": "execute_result",
          "data": {
            "text/plain": [
              "'NOITCNUF STI DNA GNIRTS NOHTYP GNINrael ma i dna ssalc gnimmargorp nohtyp tsrif ym si siht'"
            ],
            "application/vnd.google.colaboratory.intrinsic+json": {
              "type": "string"
            }
          },
          "metadata": {},
          "execution_count": 22
        }
      ]
    },
    {
      "cell_type": "markdown",
      "source": [
        "3 .try to split a string after conversion of entire string in uppercase"
      ],
      "metadata": {
        "id": "Eyk69kri9hVW"
      }
    },
    {
      "cell_type": "code",
      "source": [
        "s.upper().split()"
      ],
      "metadata": {
        "colab": {
          "base_uri": "https://localhost:8080/"
        },
        "id": "jEatVbLY-C-w",
        "outputId": "d4105578-bee7-4583-fc2a-448d44476ed2"
      },
      "execution_count": 23,
      "outputs": [
        {
          "output_type": "execute_result",
          "data": {
            "text/plain": [
              "['THIS',\n",
              " 'IS',\n",
              " 'MY',\n",
              " 'FIRST',\n",
              " 'PYTHON',\n",
              " 'PROGRAMMING',\n",
              " 'CLASS',\n",
              " 'AND',\n",
              " 'I',\n",
              " 'AM',\n",
              " 'LEARNING',\n",
              " 'PYTHON',\n",
              " 'STRING',\n",
              " 'AND',\n",
              " 'ITS',\n",
              " 'FUNCTION']"
            ]
          },
          "metadata": {},
          "execution_count": 23
        }
      ]
    },
    {
      "cell_type": "markdown",
      "source": [
        "4.try to convert the whole string into lowercase"
      ],
      "metadata": {
        "id": "UCHVLQJD_dKt"
      }
    },
    {
      "cell_type": "code",
      "source": [
        "s.lower()"
      ],
      "metadata": {
        "colab": {
          "base_uri": "https://localhost:8080/",
          "height": 35
        },
        "id": "1TNbH8IF_0RI",
        "outputId": "10804fb4-f860-43b3-b76d-bb4c398c2340"
      },
      "execution_count": 25,
      "outputs": [
        {
          "output_type": "execute_result",
          "data": {
            "text/plain": [
              "'this is my first python programming class and i am learning python string and its function'"
            ],
            "application/vnd.google.colaboratory.intrinsic+json": {
              "type": "string"
            }
          },
          "metadata": {},
          "execution_count": 25
        }
      ]
    },
    {
      "cell_type": "markdown",
      "source": [
        "5. try to captalize the whole string"
      ],
      "metadata": {
        "id": "o2QTopAcBFmX"
      }
    },
    {
      "cell_type": "code",
      "source": [
        "s.capitalize()"
      ],
      "metadata": {
        "colab": {
          "base_uri": "https://localhost:8080/",
          "height": 35
        },
        "id": "FAmWYOxv_6Bq",
        "outputId": "856e474c-5dfb-4865-e597-3be145d2dea1"
      },
      "execution_count": 29,
      "outputs": [
        {
          "output_type": "execute_result",
          "data": {
            "text/plain": [
              "'This is my first python programming class and i am learning python string and its function'"
            ],
            "application/vnd.google.colaboratory.intrinsic+json": {
              "type": "string"
            }
          },
          "metadata": {},
          "execution_count": 29
        }
      ]
    },
    {
      "cell_type": "markdown",
      "source": [
        "6.write difference between isalum() and isalpha()"
      ],
      "metadata": {
        "id": "nvBLB58TCkq0"
      }
    },
    {
      "cell_type": "code",
      "source": [
        "s.isalnum()"
      ],
      "metadata": {
        "colab": {
          "base_uri": "https://localhost:8080/"
        },
        "id": "bkV9mEq2BjVm",
        "outputId": "6940fb2f-5ba3-4bf0-ad01-6f2f0648f78c"
      },
      "execution_count": 35,
      "outputs": [
        {
          "output_type": "execute_result",
          "data": {
            "text/plain": [
              "False"
            ]
          },
          "metadata": {},
          "execution_count": 35
        }
      ]
    },
    {
      "cell_type": "code",
      "source": [
        "s.isalpha()"
      ],
      "metadata": {
        "colab": {
          "base_uri": "https://localhost:8080/"
        },
        "id": "WXVty-cjDYkN",
        "outputId": "af8841c2-1610-4500-a0e6-856ee72f7a82"
      },
      "execution_count": 36,
      "outputs": [
        {
          "output_type": "execute_result",
          "data": {
            "text/plain": [
              "False"
            ]
          },
          "metadata": {},
          "execution_count": 36
        }
      ]
    },
    {
      "cell_type": "code",
      "source": [],
      "metadata": {
        "id": "z7LbADZlFt5Z"
      },
      "execution_count": null,
      "outputs": []
    },
    {
      "cell_type": "markdown",
      "source": [
        "7. try to give an example of expand tab"
      ],
      "metadata": {
        "id": "Ye0BHKnTF9I8"
      }
    },
    {
      "cell_type": "code",
      "source": [
        "s.expandtabs()"
      ],
      "metadata": {
        "colab": {
          "base_uri": "https://localhost:8080/",
          "height": 35
        },
        "id": "tWpePHAPGG9j",
        "outputId": "510cd617-2972-45dd-eac8-5106ff116718"
      },
      "execution_count": 37,
      "outputs": [
        {
          "output_type": "execute_result",
          "data": {
            "text/plain": [
              "'this is my first python programming class and i am learNING PYTHON STRING AND ITS FUNCTION'"
            ],
            "application/vnd.google.colaboratory.intrinsic+json": {
              "type": "string"
            }
          },
          "metadata": {},
          "execution_count": 37
        }
      ]
    },
    {
      "cell_type": "markdown",
      "source": [
        "8. give an example of strip ,lstrip and rstrip"
      ],
      "metadata": {
        "id": "j8mMJEd7GrLt"
      }
    },
    {
      "cell_type": "code",
      "source": [
        "s.strip()"
      ],
      "metadata": {
        "colab": {
          "base_uri": "https://localhost:8080/",
          "height": 35
        },
        "id": "5Si5i8FvGJ1r",
        "outputId": "2df502f9-7f15-4011-b479-348e915a2b8c"
      },
      "execution_count": 38,
      "outputs": [
        {
          "output_type": "execute_result",
          "data": {
            "text/plain": [
              "'this is my first python programming class and i am learNING PYTHON STRING AND ITS FUNCTION'"
            ],
            "application/vnd.google.colaboratory.intrinsic+json": {
              "type": "string"
            }
          },
          "metadata": {},
          "execution_count": 38
        }
      ]
    },
    {
      "cell_type": "code",
      "source": [
        "s.lstrip()"
      ],
      "metadata": {
        "colab": {
          "base_uri": "https://localhost:8080/",
          "height": 35
        },
        "id": "wjzH3SLjG6Dx",
        "outputId": "bcc4567a-e83a-4b33-fccb-0528a7903623"
      },
      "execution_count": 40,
      "outputs": [
        {
          "output_type": "execute_result",
          "data": {
            "text/plain": [
              "'this is my first python programming class and i am learNING PYTHON STRING AND ITS FUNCTION'"
            ],
            "application/vnd.google.colaboratory.intrinsic+json": {
              "type": "string"
            }
          },
          "metadata": {},
          "execution_count": 40
        }
      ]
    },
    {
      "cell_type": "code",
      "source": [
        "s.rstrip()"
      ],
      "metadata": {
        "colab": {
          "base_uri": "https://localhost:8080/",
          "height": 35
        },
        "id": "Pivw_yJSHiXq",
        "outputId": "1f6a5418-b7fa-40f1-e42d-cd39b2bd8f7b"
      },
      "execution_count": 41,
      "outputs": [
        {
          "output_type": "execute_result",
          "data": {
            "text/plain": [
              "'this is my first python programming class and i am learNING PYTHON STRING AND ITS FUNCTION'"
            ],
            "application/vnd.google.colaboratory.intrinsic+json": {
              "type": "string"
            }
          },
          "metadata": {},
          "execution_count": 41
        }
      ]
    },
    {
      "cell_type": "code",
      "source": [],
      "metadata": {
        "id": "jKPWSPwmHpye"
      },
      "execution_count": null,
      "outputs": []
    },
    {
      "cell_type": "markdown",
      "source": [
        "9. replace a string character by another charactor by taking an own example"
      ],
      "metadata": {
        "id": "hI47rDulHsfE"
      }
    },
    {
      "cell_type": "code",
      "source": [
        "s.replace(\"programming\",\"aditi\")"
      ],
      "metadata": {
        "colab": {
          "base_uri": "https://localhost:8080/",
          "height": 35
        },
        "id": "K5K94sJ7ICKP",
        "outputId": "4392c72b-f258-47ea-ac0d-1fbb7b1761e2"
      },
      "execution_count": 48,
      "outputs": [
        {
          "output_type": "execute_result",
          "data": {
            "text/plain": [
              "'this is my first python aditi class and i am learNING PYTHON STRING AND ITS FUNCTION'"
            ],
            "application/vnd.google.colaboratory.intrinsic+json": {
              "type": "string"
            }
          },
          "metadata": {},
          "execution_count": 48
        }
      ]
    },
    {
      "cell_type": "code",
      "source": [],
      "metadata": {
        "id": "YXCxOGd8KzPk"
      },
      "execution_count": null,
      "outputs": []
    }
  ]
}