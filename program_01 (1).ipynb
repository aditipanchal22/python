{
  "nbformat": 4,
  "nbformat_minor": 0,
  "metadata": {
    "colab": {
      "provenance": []
    },
    "kernelspec": {
      "name": "python3",
      "display_name": "Python 3"
    },
    "language_info": {
      "name": "python"
    }
  },
  "cells": [
    {
      "cell_type": "code",
      "source": [
        "a = 2"
      ],
      "metadata": {
        "id": "71FIsAbUAdfO"
      },
      "execution_count": 32,
      "outputs": []
    },
    {
      "cell_type": "code",
      "source": [
        "# library function or inbult function\n",
        "print(a)"
      ],
      "metadata": {
        "colab": {
          "base_uri": "https://localhost:8080/"
        },
        "id": "0T1bqcgqAkAF",
        "outputId": "6a31086e-bd29-4045-a714-5dae87e14d65"
      },
      "execution_count": 7,
      "outputs": [
        {
          "output_type": "stream",
          "name": "stdout",
          "text": [
            "2\n"
          ]
        }
      ]
    },
    {
      "cell_type": "code",
      "source": [
        "print(\"shivaji gadge\")"
      ],
      "metadata": {
        "colab": {
          "base_uri": "https://localhost:8080/"
        },
        "id": "jSteuV-tA2RI",
        "outputId": "4e27068a-0535-4f28-f1c9-b4598c4fb662"
      },
      "execution_count": 8,
      "outputs": [
        {
          "output_type": "stream",
          "name": "stdout",
          "text": [
            "shivaji gadge\n"
          ]
        }
      ]
    },
    {
      "cell_type": "code",
      "source": [
        "name =\"shivaji gadge\""
      ],
      "metadata": {
        "id": "c0yCBVUYBAUc"
      },
      "execution_count": 9,
      "outputs": []
    },
    {
      "cell_type": "code",
      "source": [
        "print(name)"
      ],
      "metadata": {
        "colab": {
          "base_uri": "https://localhost:8080/"
        },
        "id": "mNqvFJ_0BFq0",
        "outputId": "ca513aab-ab6f-438e-e0c5-1e70d3f83bc8"
      },
      "execution_count": 11,
      "outputs": [
        {
          "output_type": "stream",
          "name": "stdout",
          "text": [
            "shivaji gadge\n"
          ]
        }
      ]
    },
    {
      "cell_type": "code",
      "source": [
        "name"
      ],
      "metadata": {
        "colab": {
          "base_uri": "https://localhost:8080/",
          "height": 35
        },
        "id": "LJbM3nVTBIHY",
        "outputId": "c99465e1-b8ee-474e-e41a-7e7ca49d8726"
      },
      "execution_count": 12,
      "outputs": [
        {
          "output_type": "execute_result",
          "data": {
            "text/plain": [
              "'shivaji gadge'"
            ],
            "application/vnd.google.colaboratory.intrinsic+json": {
              "type": "string"
            }
          },
          "metadata": {},
          "execution_count": 12
        }
      ]
    },
    {
      "cell_type": "code",
      "source": [
        "a"
      ],
      "metadata": {
        "colab": {
          "base_uri": "https://localhost:8080/"
        },
        "id": "Azfc-bMoBO1K",
        "outputId": "06334c7c-98d2-44e6-9eb4-96ef5723822b"
      },
      "execution_count": 13,
      "outputs": [
        {
          "output_type": "execute_result",
          "data": {
            "text/plain": [
              "2"
            ]
          },
          "metadata": {},
          "execution_count": 13
        }
      ]
    },
    {
      "cell_type": "code",
      "source": [
        "a,b,c = 5,4,7"
      ],
      "metadata": {
        "id": "5R31nIWRBQ_X"
      },
      "execution_count": 14,
      "outputs": []
    },
    {
      "cell_type": "code",
      "source": [
        "a =b = c= 7"
      ],
      "metadata": {
        "id": "KuJanxAvBVsJ"
      },
      "execution_count": 15,
      "outputs": []
    },
    {
      "cell_type": "code",
      "source": [
        "print(a ,b ,c)"
      ],
      "metadata": {
        "colab": {
          "base_uri": "https://localhost:8080/"
        },
        "id": "JCcdb4a_BY0K",
        "outputId": "8216737c-b67b-4860-b17f-3994130d4c00"
      },
      "execution_count": 16,
      "outputs": [
        {
          "output_type": "stream",
          "name": "stdout",
          "text": [
            "7 7 7\n"
          ]
        }
      ]
    },
    {
      "cell_type": "code",
      "source": [
        "# o/p-->7,7,7\n",
        "print(a,b,c, sep = ',')"
      ],
      "metadata": {
        "colab": {
          "base_uri": "https://localhost:8080/"
        },
        "id": "pbVp7ZDTBcbv",
        "outputId": "f9336485-6d4c-4209-c935-6427bd12b718"
      },
      "execution_count": 20,
      "outputs": [
        {
          "output_type": "stream",
          "name": "stdout",
          "text": [
            "7,7,7\n"
          ]
        }
      ]
    },
    {
      "cell_type": "code",
      "source": [
        "print(a,b,c , sep ='@')"
      ],
      "metadata": {
        "colab": {
          "base_uri": "https://localhost:8080/"
        },
        "id": "xkQgamLQB0F_",
        "outputId": "e24fa94b-1433-4b61-aa54-ed3e9c204b73"
      },
      "execution_count": 22,
      "outputs": [
        {
          "output_type": "stream",
          "name": "stdout",
          "text": [
            "7@7@7\n"
          ]
        }
      ]
    },
    {
      "cell_type": "code",
      "source": [
        "print(45,67,89, sep = \"\")"
      ],
      "metadata": {
        "colab": {
          "base_uri": "https://localhost:8080/"
        },
        "id": "baDk9aG_CLlD",
        "outputId": "47d416e4-de74-4e20-d546-cd477ceb9878"
      },
      "execution_count": 24,
      "outputs": [
        {
          "output_type": "stream",
          "name": "stdout",
          "text": [
            "456789\n"
          ]
        }
      ]
    },
    {
      "cell_type": "code",
      "source": [
        "print('shivaji gadge')\n",
        "print(\"vaishnavi sharma\")"
      ],
      "metadata": {
        "colab": {
          "base_uri": "https://localhost:8080/"
        },
        "id": "l8ewUGmiCU5L",
        "outputId": "8c1277a0-96a3-48f1-9757-b611863ece6e"
      },
      "execution_count": 25,
      "outputs": [
        {
          "output_type": "stream",
          "name": "stdout",
          "text": [
            "shivaji gadge\n",
            "vaishnavi sharma\n"
          ]
        }
      ]
    },
    {
      "cell_type": "code",
      "source": [
        "print('shivaji gadge', end='\\t')"
      ],
      "metadata": {
        "colab": {
          "base_uri": "https://localhost:8080/"
        },
        "id": "j_MHMFzjChB_",
        "outputId": "1aed4e3d-93a8-46bf-dcd9-adbca5ccb44a"
      },
      "execution_count": 26,
      "outputs": [
        {
          "output_type": "stream",
          "name": "stdout",
          "text": [
            "shivaji gadge\t"
          ]
        }
      ]
    },
    {
      "cell_type": "code",
      "source": [
        "# write code for add 2 no.s\n",
        "print(\"Enter Two Nos.\")\n",
        "a = int(input(\" input the value of a\"))\n",
        "b = int(input(\"input the value of b\"))\n",
        "c = a + b\n",
        "print(c)"
      ],
      "metadata": {
        "colab": {
          "base_uri": "https://localhost:8080/"
        },
        "id": "tetoLZHOCspf",
        "outputId": "6c3df653-f7d4-48a0-d003-eafbf1d649f2"
      },
      "execution_count": 31,
      "outputs": [
        {
          "output_type": "stream",
          "name": "stdout",
          "text": [
            "Enter Two Nos.\n",
            " input the value of a 45\n",
            "input the value of b  78\n",
            "123\n"
          ]
        }
      ]
    },
    {
      "cell_type": "code",
      "source": [],
      "metadata": {
        "id": "MrtYQt2LDX5Z"
      },
      "execution_count": 29,
      "outputs": []
    }
  ]
}